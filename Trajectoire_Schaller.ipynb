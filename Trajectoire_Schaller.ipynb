{
 "cells": [
  {
   "cell_type": "markdown",
   "metadata": {},
   "source": [
    "### Activité 2 : Décrire la variation de la vitesse lors d’une chute libre -Contraposée du principe d’inertie – TP   \n",
    "Le 18 août 2015, Laso Schaller a établi un nouveau record du monde de plongeon de haut vol. Le sportif suisse s’est élancé d’une plate-forme à 58,80 mètres de hauteur au dessus d’une cascade, la Cascata del Salto, pour plonger dans le petit bassin de celle-ci […]. Un exploit qui l’a vu rentrer dans l’eau à la vitesse de 122 km/h après presque 4 secondes de chute.  \n",
    "\n",
    "[lien vers l'article](https://france3-regions.francetvinfo.fr/auvergne-rhone-alpes/video-le-suisse-laso-schaller-bat-le-record-du-monde-de-plongeon-789545.html).\n",
    "\n",
    "<img src=\"https://download.pearltrees.com/s/pic/or/-225184978?pearlId=315525189\"  alt=\"image\" style=\"margin-left:10px;float:left;\" />  <br> \n",
    "\n",
    "Cette activité a pour but d'automatiser le tracé de la trajectoire et des vecteurs vitesse , du langage de programmation Python, et de faire une simulation de la vitesse atteinte par Laso Schaller puis de faire le lien entre les variations du vecteur vitesse et de la somme vectorielle des forces.  \n",
    "\n",
    "### Question 1 :   \n",
    "<span style=\"color:blue\">**Dans quel référentiel sont repérées les positions de Laso Schaller sur le doc 2?**</span>.<br> "
   ]
  },
  {
   "cell_type": "markdown",
   "metadata": {},
   "source": [
    "Répondre ici"
   ]
  },
  {
   "cell_type": "markdown",
   "metadata": {},
   "source": [
    "### Mise en place du programme python  \n",
    "Dans un premier temps, compléter les deux listes x=[ ] et y =[ ]  \n",
    "Dans un deuxième temps, rentrer les valeurs de ymin et ymax à l'aide du document 2 puis exécuter la cellule."
   ]
  },
  {
   "cell_type": "code",
   "execution_count": null,
   "metadata": {},
   "outputs": [],
   "source": [
    "import matplotlib.pyplot as plt\n",
    "\n",
    "# Importation des données\n",
    "\n",
    "x=[] # dans une liste nommée x, entrer les abscisses du point mobile séparés d’une virgule\n",
    "y=[]# dans une liste nommée y, entrer les abscisses du point mobile séparés d’une virgule\n",
    "\n",
    "plt.plot(x,y,'r+',ms=5.) # trace un graphique point par point ,avec des traceurs rouges en forme de croix et précise leur taille)\n",
    "plt.xlabel(\"x (en m)\") # \"grandeur sur les abscisses (son unité)\n",
    "plt.ylabel(\"y (en m)\")\n",
    "plt.axis([-2, 2, ymin, ymax]) # les deux premières valeurs sont celles de xmin et xmax\n",
    "plt.title(\"Trajectoire de Laso Schaller\",fontsize=8)\n",
    "plt.show\n"
   ]
  },
  {
   "cell_type": "markdown",
   "metadata": {},
   "source": [
    "L’expression du vecteur vitesse d’un point mobile entre deux positions M<sub>1</sub> et M<sub>2</sub> occupées au cours du temps par ce point, respectivement aux dates t<sub>1</sub> et t<sub>2</sub> est : $$\\vec{v_1} = \\frac{\\vec {M_1 M_2}} {t_2-t_1} $$ \n",
    "\n",
    "### Question 2 :  \n",
    "Soient (x<sub>1</sub>; y<sub>1</sub>) et (x<sub>2</sub>; y<sub>2</sub>) les coordonnées respectives des points M1 et M2. \n",
    "Donner l’expression de vx1 en fonction de x<sub>1</sub>, x<sub>2</sub>, t<sub>1</sub> et t<sub>2</sub> puis l’expression de vy<sub>1</sub> en fonction de y<sub>1</sub>, y<sub>2</sub>, t<sub>1</sub> et t<sub>2</sub>.\n",
    "\n"
   ]
  },
  {
   "cell_type": "markdown",
   "metadata": {},
   "source": [
    "repondre ici"
   ]
  },
  {
   "cell_type": "markdown",
   "metadata": {},
   "source": [
    "### Question 3 :    \n",
    "En déduire que dans le cas de la chute libre de L. Schaller, les coordonnées vx du vecteur vitesse sont nulles et que ses coordonnées vy sont négatives à chaque instant.\n"
   ]
  },
  {
   "cell_type": "markdown",
   "metadata": {},
   "source": [
    "répondre ici"
   ]
  },
  {
   "cell_type": "markdown",
   "metadata": {},
   "source": [
    "### Question 4 : \n",
    "Pour quelle date t du mouvement, la vitesse n’est pas accessible ? Justifier. Combien de vitesses vont pouvoir ainsi être calculées ?"
   ]
  },
  {
   "cell_type": "markdown",
   "metadata": {},
   "source": [
    "répondre ici"
   ]
  },
  {
   "cell_type": "markdown",
   "metadata": {},
   "source": [
    "### programme python suite  \n",
    "On crée tout d'abord les listes vides. on peut remplir la liste t avec une boucle."
   ]
  },
  {
   "cell_type": "code",
   "execution_count": 4,
   "metadata": {},
   "outputs": [
    {
     "name": "stdout",
     "output_type": "stream",
     "text": [
      "[0, 0.5, 1.0, 1.5, 2.0, 2.5, 3.0, 3.5]\n"
     ]
    }
   ],
   "source": [
    "t =[]\n",
    "vx=[]\n",
    "vy=[]\n",
    "\n",
    "pas=0\n",
    "for i in range (8):\n",
    "    t.append(pas)\n",
    "    pas = pas +0.5\n",
    "print(t)\n"
   ]
  },
  {
   "cell_type": "markdown",
   "metadata": {},
   "source": [
    "On remplit les listes vides à partir des listes des coordonnées.Compléter le code ci dessous à partir de vos réponse précédentes.  \n",
    "Pour accéder, par exemple, à l'élément 3 de la liste x, il faut taper x[3].  \n",
    "Dans la boucle, il faudra utiliser l'indice i.  \n",
    "Exécuter ensuite le programme."
   ]
  },
  {
   "cell_type": "code",
   "execution_count": null,
   "metadata": {},
   "outputs": [],
   "source": [
    "for i in range (len(t)-1): \n",
    "# len donne le nombre d’éléments d’une liste\n",
    "    vx.append(-----------------)\n",
    "    vy.append(-----------------)\n",
    "# append permet d’ajouter des éléments dans  une liste existante\n",
    "    print(\"A la hauteur\",y[i],\"m\" ,\"la vitesse atteinte par Laso Schaller est de\",-1*vy[i]*3.6, \"km/h\")"
   ]
  },
  {
   "cell_type": "markdown",
   "metadata": {},
   "source": [
    "#### Analyse des lignes de code\n",
    "- Quelle valeur pourrait remplacer len(t)-1?  \n",
    "- Dans la dernière ligne, expliquer -1*vy[i] * 3.6 ?   "
   ]
  },
  {
   "cell_type": "markdown",
   "metadata": {},
   "source": [
    "répondre ici"
   ]
  },
  {
   "cell_type": "markdown",
   "metadata": {},
   "source": [
    "### programme python - tracé des vecteurs vitesse\n",
    "<img src=\"https://download.pearltrees.com/s/pic/or/-225187277?pearlId=315529432\"  alt=\"image\" style=\"margin-left:10px;float:left;\" />  <br> \n",
    "\n",
    "Compléter le programme suivant de façon à créer la boucle for permettant de tracer les vecteurs vitesses au maximumn de points."
   ]
  },
  {
   "cell_type": "code",
   "execution_count": null,
   "metadata": {},
   "outputs": [],
   "source": [
    "    plt.arrow(x[i], y[i], vx[i]/1.5, vy[i]/1.5,head_width=0.08, head_length=0.4,length_includes_head= True\n",
    "   ,color='g',fc='g')\n",
    "\n",
    "plt.plot(x,y,'r+',ms=5.) # trace un graphique point par point ,avec des traceurs rouges en forme de croix et précise leur taille)\n",
    "plt.xlabel(\"x (en m)\") # \"grandeur sur les abscisses (son unité)\n",
    "plt.ylabel(\"y (en m)\")\n",
    "plt.axis([-1,5,-5,60]) \n",
    "plt.title(\"Trajectoire de Laso Schaller\",fontsize=8)\n",
    "plt.show\n"
   ]
  }
 ],
 "metadata": {
  "kernelspec": {
   "display_name": "Python 3",
   "language": "python",
   "name": "python3"
  },
  "language_info": {
   "codemirror_mode": {
    "name": "ipython",
    "version": 3
   },
   "file_extension": ".py",
   "mimetype": "text/x-python",
   "name": "python",
   "nbconvert_exporter": "python",
   "pygments_lexer": "ipython3",
   "version": "3.7.3"
  }
 },
 "nbformat": 4,
 "nbformat_minor": 2
}

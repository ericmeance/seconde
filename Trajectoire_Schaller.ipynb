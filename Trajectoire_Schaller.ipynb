{
 "cells": [
  {
   "cell_type": "markdown",
   "metadata": {},
   "source": [
    "### Activité 2 : Décrire la variation de la vitesse lors d’une chute libre -Contraposée du principe d’inertie – TP   \n",
    "Le 18 août 2015, Laso Schaller a établi un nouveau record du monde de plongeon de haut vol. Le sportif suisse s’est élancé d’une plate-forme à 58,80 mètres de hauteur au dessus d’une cascade, la Cascata del Salto, pour plonger dans le petit bassin de celle-ci […]. Un exploit qui l’a vu rentrer dans l’eau à la vitesse de 122 km/h après presque 4 secondes de chute.  \n",
    "\n",
    "[lien vers l'article](https://france3-regions.francetvinfo.fr/auvergne-rhone-alpes/video-le-suisse-laso-schaller-bat-le-record-du-monde-de-plongeon-789545.html).\n",
    "\n",
    "<img src=\"https://download.pearltrees.com/s/pic/or/-225184978?pearlId=315525189\"  alt=\"image\" style=\"margin-left:10px;float:left;\" />  <br> \n",
    "\n",
    "Cette activité a pour but d'automatiser le tracé de la trajectoire et des vecteurs vitesse , du langage de programmation Python, et de faire une simulation de la vitesse atteinte par Laso Schaller puis de faire le lien entre les variations du vecteur vitesse et de la somme vectorielle des forces.  \n",
    "\n",
    "### Question :   \n",
    "Dans quel référentiel sont repérées les positions de Laso Schaller sur le doc 2?"
   ]
  },
  {
   "cell_type": "markdown",
   "metadata": {},
   "source": [
    "Répondre ici"
   ]
  },
  {
   "cell_type": "markdown",
   "metadata": {},
   "source": [
    "### Mise en place du programme python  \n",
    "Dans un premier temps, compléter les deux listes x=[ ] et y =[ ] puis exécuter la cellue de code."
   ]
  },
  {
   "cell_type": "code",
   "execution_count": 5,
   "metadata": {},
   "outputs": [
    {
     "data": {
      "text/plain": [
       "Text(0, 0.5, 'y (en m)')"
      ]
     },
     "execution_count": 5,
     "metadata": {},
     "output_type": "execute_result"
    },
    {
     "data": {
      "image/png": "[encoded data removed]",
      "text/plain": [
       "<Figure size 432x288 with 1 Axes>"
      ]
     },
     "metadata": {
      "needs_background": "light"
     },
     "output_type": "display_data"
    }
   ],
   "source": [
    "import matplotlib.pyplot as plt\n",
    "\n",
    "# Importation des données\n",
    "\n",
    "x=[0,0,0,0,0,0,0,0] # dans une liste nommée x, entrer les abscisses du point mobile séparés d’une virgule\n",
    "y=[58.80,57.58,53.90,47.78,39.20,28.28,14.70,0]# dans une liste nommée y, entrer les abscisses du point mobile séparés d’une virgule\n",
    "\n",
    "plt.plot(x,y,'r+',ms=5.) # trace un graphique point par point ,avec des traceurs rouges en forme de croix et précise leur taille)\n",
    "plt.xlabel(\"x (en m)\") # \"grandeur sur les abscisses (son unité)\n",
    "plt.ylabel(\"y (en m)\")"
   ]
  },
  {
   "cell_type": "markdown",
   "metadata": {},
   "source": [
    "Dans un deuxième temps, rentrer les valeurs de ymin et ymax à l'aide du document 2 puis exécuter la cellule"
   ]
  },
  {
   "cell_type": "code",
   "execution_count": 7,
   "metadata": {},
   "outputs": [
    {
     "data": {
      "image/png": "[encoded data removed]",
      "text/plain": [
       "<Figure size 432x288 with 1 Axes>"
      ]
     },
     "metadata": {
      "needs_background": "light"
     },
     "output_type": "display_data"
    }
   ],
   "source": [
    "x=[0,0,0,0,0,0,0,0] # dans une liste nommée x, entrer les abscisses du point mobile séparés d’une virgule\n",
    "y=[58.80,57.58,53.90,47.78,39.20,28.28,14.70,0]# dans une liste nommée y, entrer les abscisses du point mobile séparés d’une virgule\n",
    "\n",
    "plt.plot(x,y,'r+',ms=5.) # trace un graphique point par point ,avec des traceurs rouges en forme de croix et précise leur taille)\n",
    "plt.xlabel(\"x (en m)\") # \"grandeur sur les abscisses (son unité)\n",
    "plt.ylabel(\"y (en m)\")\n",
    "plt.axis([-1,5,-5,60])  #  [xmin à choisir, xmax …, ymin …, ymax à choisir]\n",
    "plt.title(\"Trajectoire de Las Schaller\",fontsize=8)\n",
    "plt.show()"
   ]
  },
  {
   "cell_type": "code",
   "execution_count": null,
   "metadata": {},
   "outputs": [],
   "source": []
  }
 ],
 "metadata": {
  "kernelspec": {
   "display_name": "Python 3",
   "language": "python",
   "name": "python3"
  },
  "language_info": {
   "codemirror_mode": {
    "name": "ipython",
    "version": 3
   },
   "file_extension": ".py",
   "mimetype": "text/x-python",
   "name": "python",
   "nbconvert_exporter": "python",
   "pygments_lexer": "ipython3",
   "version": "3.7.3"
  }
 },
 "nbformat": 4,
 "nbformat_minor": 2
}
